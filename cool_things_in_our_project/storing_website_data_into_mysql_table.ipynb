{
  "cells": [
    {
      "cell_type": "code",
      "execution_count": 1,
      "metadata": {},
      "outputs": [
        {
          "name": "stderr",
          "output_type": "stream",
          "text": [
            "C:\\Users\\syeda.fatima\\AppData\\Local\\Temp\\ipykernel_28508\\3736968601.py:1: DeprecationWarning: \n",
            "Pyarrow will become a required dependency of pandas in the next major release of pandas (pandas 3.0),\n",
            "(to allow more performant data types, such as the Arrow string type, and better interoperability with other libraries)\n",
            "but was not found to be installed on your system.\n",
            "If this would cause problems for you,\n",
            "please provide us feedback at https://github.com/pandas-dev/pandas/issues/54466\n",
            "        \n",
            "  import pandas as pd\n"
          ]
        }
      ],
      "source": [
        "import pandas as pd\n",
        "from bs4 import BeautifulSoup\n",
        "import requests\n",
        "import mysql.connector\n",
        "from mysql.connector import Error\n",
        "import csv\n"
      ]
    },
    {
      "cell_type": "code",
      "execution_count": 2,
      "metadata": {
        "id": "RvqKrGPci_2j"
      },
      "outputs": [
        {
          "name": "stdout",
          "output_type": "stream",
          "text": [
            "CSV data has been successfully inserted into the `BloodGroupCompatibility` table.\n"
          ]
        }
      ],
      "source": [
        "def load_scraped_data_to_mysql(link=\"https://www.geeksforgeeks.org/blood-group-chart\"):\n",
        "    soup = BeautifulSoup(requests.get(link).text)\n",
        "    # first we should find our table object:\n",
        "    table = soup.find('table')\n",
        "    # then we can iterate through each row and extract either header or row values:\n",
        "    header = []\n",
        "    rows = []\n",
        "    for i, row in enumerate(table.find_all('tr')):\n",
        "        updated_rows =[]\n",
        "        if i == 0:\n",
        "            header = [el.text.strip() for el in row.find_all('th')]\n",
        "        else:\n",
        "            updated_rows.extend([el.text.strip() for el in row.find_all('th')])\n",
        "            updated_rows.extend([el.text.strip() for el in row.find_all('td')])\n",
        "            # print(updated_rows)\n",
        "            rows.append(updated_rows)\n",
        "\n",
        "    df = pd.DataFrame(rows)\n",
        "    df.columns = header\n",
        "    # print(df)\n",
        "    csv_file_path = 'BloodGroupCompatability.csv'\n",
        "    df.to_csv(csv_file_path, index= False)\n",
        "    csv_to_sql(csv_file_path, 'BloodGroupCompatibility')\n",
        "\n",
        "def connect_to_database():\n",
        "    \"\"\"Establish a connection to the MySQL database.\"\"\"\n",
        "    try:\n",
        "        connection = mysql.connector.connect(host='CSSQL',\n",
        "                                             database='mm_team02_02',\n",
        "                                             user='mm_team02_02',\n",
        "                                             password='mm_team02_02Pass-')\n",
        "        return connection\n",
        "    except Error as e:\n",
        "        print(f\"Error while connecting to MySQL: {e}\")\n",
        "        return None\n",
        "\n",
        "def csv_to_sql(csv_file_path, table_name):\n",
        "    connection = connect_to_database()\n",
        "    if connection is not None:\n",
        "        cursor = connection.cursor()\n",
        "        try:\n",
        "            drop_table_stmt = f\"DROP TABLE IF EXISTS `{table_name}`\"\n",
        "            cursor.execute(drop_table_stmt)\n",
        "\n",
        "            with open(csv_file_path, mode='r', encoding='utf-8') as csvfile:\n",
        "                csvreader = csv.reader(csvfile)\n",
        "                headers = next(csvreader)\n",
        "                column_definitions = ', '.join([f\"`{header.strip()}` VARCHAR(30)\" for header in headers])\n",
        "                \n",
        "                create_table_stmt = f\"\"\"\n",
        "                CREATE TABLE IF NOT EXISTS `{table_name}` (\n",
        "                    {column_definitions}\n",
        "                )\n",
        "                \"\"\"\n",
        "                cursor.execute(create_table_stmt)\n",
        "                \n",
        "                columns = ', '.join([f\"`{header.strip()}`\" for header in headers])\n",
        "                placeholders = ', '.join(['%s'] * len(headers))\n",
        "                insert_stmt = f\"INSERT INTO `{table_name}` ({columns}) VALUES ({placeholders})\"\n",
        "                \n",
        "                for row in csvreader:\n",
        "                    if len(row) == len(headers): \n",
        "                        cursor.execute(insert_stmt, row)\n",
        "                    else:\n",
        "                        print(f\"Row has a different number of elements than expected: {row}\")\n",
        "                \n",
        "                connection.commit()\n",
        "                print(f\"CSV data has been successfully inserted into the `{table_name}` table.\")\n",
        "        except Error as e:\n",
        "            print(f\"Error while inserting data into MySQL: {e}\")\n",
        "            connection.rollback()  \n",
        "        finally:\n",
        "            cursor.close()\n",
        "            if connection.is_connected():\n",
        "                connection.close()\n",
        "    else:\n",
        "        print(\"Failed to connect to the database\")\n",
        "\n",
        "load_scraped_data_to_mysql()"
      ]
    },
    {
      "cell_type": "code",
      "execution_count": null,
      "metadata": {},
      "outputs": [],
      "source": []
    }
  ],
  "metadata": {
    "colab": {
      "provenance": []
    },
    "kernelspec": {
      "display_name": "Python 3",
      "name": "python3"
    },
    "language_info": {
      "codemirror_mode": {
        "name": "ipython",
        "version": 3
      },
      "file_extension": ".py",
      "mimetype": "text/x-python",
      "name": "python",
      "nbconvert_exporter": "python",
      "pygments_lexer": "ipython3",
      "version": "3.10.6"
    }
  },
  "nbformat": 4,
  "nbformat_minor": 0
}
